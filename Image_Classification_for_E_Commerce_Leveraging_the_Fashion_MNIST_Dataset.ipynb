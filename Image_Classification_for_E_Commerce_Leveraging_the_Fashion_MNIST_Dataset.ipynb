{
  "nbformat": 4,
  "nbformat_minor": 0,
  "metadata": {
    "colab": {
      "provenance": [],
      "mount_file_id": "1danBipJ7nKb7v-2ooaJpNxHdinXBaQT7",
      "authorship_tag": "ABX9TyP3Cot5rSQYS/tBhEsSV/01"
    },
    "kernelspec": {
      "name": "python3",
      "display_name": "Python 3"
    },
    "language_info": {
      "name": "python"
    }
  },
  "cells": [
    {
      "cell_type": "markdown",
      "source": [
        "Image Classification for E-Commerce: Leveraging the Fashion-MNIST Dataset"
      ],
      "metadata": {
        "id": "5E-0_g5ownxq"
      }
    },
    {
      "cell_type": "markdown",
      "source": [
        "This project aims at the classification of clothing images for e-commerce using a dataset called Fashion-MNIST. Fashion-MNIST is a curated collection of various clothing items, specifically designed for machine learning purposes in the field of computer vision. It serves as a replacement for the original MNIST dataset, which is commonly used for handwritten digit recognition. The Fashion-MNIST dataset consists of thousands of grayscale images, each depicting a different type of clothing item, such as shirts, dresses, shoes, and more. By utilizing this dataset, our project seeks to develop a model that can accurately classify and categorize these clothing images, thereby enhancing the efficiency and effectiveness of e-commerce platforms in presenting and recommending clothing products to customers.\n",
        "\n",
        "\n",
        "\n",
        "\n",
        "\n"
      ],
      "metadata": {
        "id": "So5Qhyop2Xxk"
      }
    },
    {
      "cell_type": "markdown",
      "source": [
        "Imports"
      ],
      "metadata": {
        "id": "LJLCVUX10B69"
      }
    },
    {
      "cell_type": "code",
      "source": [
        "import tensorflow \n",
        "from tensorflow import keras\n",
        "from keras.models import load_model\n",
        "import matplotlib.pyplot as plt\n",
        "import numpy as np\n"
      ],
      "metadata": {
        "id": "WkM9pwYXxcUa"
      },
      "execution_count": 40,
      "outputs": []
    },
    {
      "cell_type": "markdown",
      "source": [
        "Loading dataset"
      ],
      "metadata": {
        "id": "asL8z5UpwU2t"
      }
    },
    {
      "cell_type": "code",
      "source": [
        "dataset = keras.datasets.fashion_mnist"
      ],
      "metadata": {
        "id": "2C3TVVWlwuCp"
      },
      "execution_count": 2,
      "outputs": []
    },
    {
      "cell_type": "markdown",
      "source": [
        "Splitting into training and test data"
      ],
      "metadata": {
        "id": "RDhDIuczz7_h"
      }
    },
    {
      "cell_type": "code",
      "source": [
        "((img_train, id_train),(img_test,id_test))=dataset.load_data()"
      ],
      "metadata": {
        "id": "2rN0DVdNxp3o"
      },
      "execution_count": 3,
      "outputs": []
    },
    {
      "cell_type": "markdown",
      "source": [
        "Viewing images"
      ],
      "metadata": {
        "id": "ClGQCPNR6LqV"
      }
    },
    {
      "cell_type": "code",
      "source": [
        "plt.imshow(img_train[0])\n",
        "plt.title(id_train[0])\n"
      ],
      "metadata": {
        "id": "MDKHDfvk6S0I"
      },
      "execution_count": null,
      "outputs": []
    },
    {
      "cell_type": "markdown",
      "source": [
        "Exploring datas"
      ],
      "metadata": {
        "id": "T_ntnXhQwdMW"
      }
    },
    {
      "cell_type": "code",
      "source": [
        "id_train.min()\n",
        "id_train.max()\n"
      ],
      "metadata": {
        "colab": {
          "base_uri": "https://localhost:8080/"
        },
        "id": "g3kE_BYcv17E",
        "outputId": "8f369477-3481-4916-f50a-4ee5ed58159d"
      },
      "execution_count": 5,
      "outputs": [
        {
          "output_type": "execute_result",
          "data": {
            "text/plain": [
              "9"
            ]
          },
          "metadata": {},
          "execution_count": 5
        }
      ]
    },
    {
      "cell_type": "markdown",
      "source": [
        "\n",
        "Showing the categories"
      ],
      "metadata": {
        "id": "Yz01Bt2MJKOD"
      }
    },
    {
      "cell_type": "code",
      "source": [
        "rating_total = 10\n",
        "rating_names = ['t-shirt','trouser','pullover','dress','coat','sandal','shirt','sneaker','bag','ankle_boot', ]\n",
        "for img in range(10):\n",
        "  plt.subplot(2,5, img+1)\n",
        "  plt.imshow(img_train[img])\n",
        "  plt.title(rating_names[id_train[img]])\n",
        "plt.imshow(img_train[0])\n",
        "plt.colorbar()"
      ],
      "metadata": {
        "id": "QLXe7H5KHTZ9"
      },
      "execution_count": null,
      "outputs": []
    },
    {
      "cell_type": "markdown",
      "source": [
        "\n",
        "Creating multilayer model - Normalizing images\n",
        "Creating, training and compiling the model\n"
      ],
      "metadata": {
        "id": "mZ1LYCwvxzDb"
      }
    },
    {
      "cell_type": "code",
      "source": [
        "#normalization\n",
        "img_train = img_train/float(255)\n",
        "model = keras.Sequential([\n",
        "        keras.layers.Flatten(input_shape=(28,28)), \n",
        "        keras.layers.Dense(256,activation=tensorflow.nn.relu),\n",
        "        keras.layers.Dropout(0.20),\n",
        "        keras.layers.Dense(10,activation=tensorflow.nn.softmax),\n",
        "        ])\n"
      ],
      "metadata": {
        "id": "sTCUQ5G_xwmj"
      },
      "execution_count": 34,
      "outputs": []
    },
    {
      "cell_type": "code",
      "source": [
        "model.compile(optimizer='adam',loss='sparse_categorical_crossentropy',metrics=['accuracy'])\n",
        "history = model.fit(img_train,id_train,epochs=5,validation_split=0.2)"
      ],
      "metadata": {
        "id": "c40RQQ91GZVG"
      },
      "execution_count": null,
      "outputs": []
    },
    {
      "cell_type": "markdown",
      "source": [
        "Saving model"
      ],
      "metadata": {
        "id": "Cqjf-pJZy-X6"
      }
    },
    {
      "cell_type": "code",
      "source": [
        "model.save('model.h5')\n",
        "model_saved = load_model('model.h5')"
      ],
      "metadata": {
        "id": "bzhanEBhucWn"
      },
      "execution_count": 41,
      "outputs": []
    },
    {
      "cell_type": "markdown",
      "source": [
        "Viewing accuracy graph by epochs"
      ],
      "metadata": {
        "id": "nlvz9jEjzCqe"
      }
    },
    {
      "cell_type": "code",
      "source": [
        "plt.plot(history.history['accuracy'])\n",
        "plt.plot(history.history['val_accuracy'])\n",
        "plt.title('Accuracy by epochs')\n",
        "plt.xlabel('Epochs')\n",
        "plt.ylabel('Accuracy')\n",
        "plt.legend(['train','validate'])"
      ],
      "metadata": {
        "id": "Fy6iHQVOje4R"
      },
      "execution_count": null,
      "outputs": []
    },
    {
      "cell_type": "markdown",
      "source": [
        "Viewing loss graph by epochs"
      ],
      "metadata": {
        "id": "w5MtCtwgzcro"
      }
    },
    {
      "cell_type": "code",
      "source": [
        "plt.plot(history.history['loss'])\n",
        "plt.plot(history.history['val_loss'])\n",
        "plt.title('Loss by epochs')\n",
        "plt.xlabel('Epochs')\n",
        "plt.ylabel('Loss')\n",
        "plt.legend(['train','validate'])"
      ],
      "metadata": {
        "id": "bE8kv5SRo8lv"
      },
      "execution_count": null,
      "outputs": []
    },
    {
      "cell_type": "markdown",
      "source": [
        "Testing models and saved model"
      ],
      "metadata": {
        "id": "nchh0LKnfWm_"
      }
    },
    {
      "cell_type": "code",
      "source": [
        "test = model.predict(img_test)\n",
        "print('Test Result:', np.argmax(test[0]))\n",
        "print('Image number:', id_test[0])"
      ],
      "metadata": {
        "id": "a-sFM63-fWOu"
      },
      "execution_count": null,
      "outputs": []
    },
    {
      "cell_type": "code",
      "source": [
        "test_saved_model =  model_saved.predict(img_test)\n",
        "print('Saved test model result: ', np.argmax(test_saved_model[0]))"
      ],
      "metadata": {
        "id": "bU1SAlCizzwN"
      },
      "execution_count": null,
      "outputs": []
    },
    {
      "cell_type": "markdown",
      "source": [
        "Model evaluation"
      ],
      "metadata": {
        "id": "7-8CpTCmgu29"
      }
    },
    {
      "cell_type": "code",
      "source": [
        "test_loss,test_accuracy=model.evaluate(img_test,id_test)\n",
        "print('Test loss: ', test_loss)\n",
        "print('Test accuracy: ', test_accuracy)\n"
      ],
      "metadata": {
        "id": "u7GGIA6Ngy_J"
      },
      "execution_count": null,
      "outputs": []
    }
  ]
}